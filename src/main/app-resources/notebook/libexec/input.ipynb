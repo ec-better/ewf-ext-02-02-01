{
 "cells": [
  {
   "cell_type": "markdown",
   "metadata": {
    "slideshow": {
     "slide_type": "skip"
    }
   },
   "source": [
    "## ewf-ext-02-02-01 Oil sheen of natural oil seepage with Sentinel-1"
   ]
  },
  {
   "cell_type": "markdown",
   "metadata": {},
   "source": [
    "### <a name=\"service\">Service definition"
   ]
  },
  {
   "cell_type": "code",
   "execution_count": 1,
   "metadata": {
    "collapsed": true
   },
   "outputs": [],
   "source": [
    "service = dict([('title', 'ewf-ext-02-02-01 Oil sheen of natural oil seepage with Sentinel-1'),\n",
    "                ('abstract', 'ewf-ext-02-02-01 Oil sheen of natural oil seepage with Sentinel-1'),\n",
    "                ('id', 'ewf-ext-02-02-01')])"
   ]
  },
  {
   "cell_type": "markdown",
   "metadata": {},
   "source": [
    "### <a name=\"runtime\">Runtime parameter definition"
   ]
  },
  {
   "cell_type": "markdown",
   "metadata": {},
   "source": [
    "**Input identifiers**\n",
    "\n",
    "This is the Sentinel-1 stack of products' identifiers"
   ]
  },
  {
   "cell_type": "code",
   "execution_count": 2,
   "metadata": {
    "collapsed": true
   },
   "outputs": [],
   "source": [
    "input_identifiers = ( 'S1B_IW_GRDH_1SDH_20171025T204653_20171025T204718_007991_00E1E2_CBD2', ) "
   ]
  },
  {
   "cell_type": "markdown",
   "metadata": {},
   "source": [
    "**Input references**\n",
    "\n",
    "This is the Sentinel-1 stack catalogue references"
   ]
  },
  {
   "cell_type": "code",
   "execution_count": 3,
   "metadata": {
    "collapsed": false,
    "slideshow": {
     "slide_type": "subslide"
    }
   },
   "outputs": [],
   "source": [
    "input_references = ('https://catalog.terradue.com/sentinel1/search?uid=S1B_IW_GRDH_1SDH_20171025T204653_20171025T204718_007991_00E1E2_CBD2',) "
   ]
  },
  {
   "cell_type": "markdown",
   "metadata": {
    "slideshow": {
     "slide_type": "slide"
    }
   },
   "source": [
    "**Data path**\n",
    "\n",
    "This path defines where the data is staged-in. "
   ]
  },
  {
   "cell_type": "code",
   "execution_count": 4,
   "metadata": {
    "collapsed": true
   },
   "outputs": [],
   "source": [
    "data_path = \"/workspace/data\""
   ]
  },
  {
   "cell_type": "markdown",
   "metadata": {},
   "source": [
    "### <a name=\"workflow\">Workflow"
   ]
  },
  {
   "cell_type": "markdown",
   "metadata": {},
   "source": [
    "#### Import the packages required for processing the data"
   ]
  },
  {
   "cell_type": "code",
   "execution_count": 5,
   "metadata": {
    "collapsed": true
   },
   "outputs": [],
   "source": [
    "from snappy import jpy\n",
    "from snappy import ProductIO"
   ]
  },
  {
   "cell_type": "markdown",
   "metadata": {},
   "source": [
    "#### Read the products"
   ]
  },
  {
   "cell_type": "code",
   "execution_count": 6,
   "metadata": {
    "collapsed": false,
    "slideshow": {
     "slide_type": "subslide"
    }
   },
   "outputs": [],
   "source": [
    "s1meta = \"manifest.safe\"\n",
    "\n",
    "products = []\n",
    "\n",
    "for s1path in input_identifiers:\n",
    "\n",
    "    s1prd= \"%s/%s/%s.SAFE/%s\" % (data_path, s1path, s1path, s1meta)\n",
    "    reader = ProductIO.getProductReader(\"SENTINEL-1\")\n",
    "    product = reader.readProductNodes(s1prd, None)\n",
    "    products.append(product)"
   ]
  },
  {
   "cell_type": "markdown",
   "metadata": {
    "slideshow": {
     "slide_type": "slide"
    }
   },
   "source": [
    "#### Extract information about the Sentinel-1 GRD products:"
   ]
  },
  {
   "cell_type": "code",
   "execution_count": 7,
   "metadata": {
    "collapsed": false,
    "slideshow": {
     "slide_type": "subslide"
    }
   },
   "outputs": [
    {
     "name": "stdout",
     "output_type": "stream",
     "text": [
      "Product: S1B_IW_GRDH_1SDH_20171025T204653_20171025T204718_007991_00E1E2_CBD2, 25920 x 16645 pixels\n",
      "Bands:   ['Amplitude_HH', 'Intensity_HH', 'Amplitude_HV', 'Intensity_HV']\n"
     ]
    }
   ],
   "source": [
    "for product in products:\n",
    "\n",
    "    width = product.getSceneRasterWidth()\n",
    "    height = product.getSceneRasterHeight()\n",
    "    name = product.getName()\n",
    "    band_names = product.getBandNames()\n",
    "    print(\"Product: %s, %d x %d pixels\" % (name, width, height))\n",
    "    print(\"Bands:   %s\" % (list(band_names)))"
   ]
  },
  {
   "cell_type": "markdown",
   "metadata": {
    "slideshow": {
     "slide_type": "slide"
    }
   },
   "source": [
    "#### Process the data\n",
    "\n",
    "* Step 0: Data preparation - Subset\n",
    "* Step 1: Pre-processing - Calibration\n",
    "* Step 2: Pre-processing - Speckle filtering\n",
    "* Step 3: Pre-processing - Linear to dB\n",
    "* Step 4: Distribution analysis and probability density function fitting\n",
    "* Step 5: Anomaly index 1 - Backscattering spread\n",
    "* Step 6: Anomaly index 2 - Backscattering statistical distribution distance\n",
    "* Step 7: Anomaly index 3 - Final score\n"
   ]
  },
  {
   "cell_type": "markdown",
   "metadata": {
    "slideshow": {
     "slide_type": "slide"
    }
   },
   "source": [
    "##### <a name=\"subset\">Step 0: Data preparation - Subset\n",
    "\n",
    "We extract a subset of the Sentinel-1 GRD products by specify a rectangle:"
   ]
  },
  {
   "cell_type": "code",
   "execution_count": 8,
   "metadata": {
    "collapsed": true
   },
   "outputs": [],
   "source": [
    "aoi = 'POLYGON((-54.333 71.559, -49.842 71.559, -49.842 69.713, -54.333 69.713, -54.333 71.559))'"
   ]
  },
  {
   "cell_type": "code",
   "execution_count": 9,
   "metadata": {
    "collapsed": false,
    "slideshow": {
     "slide_type": "subslide"
    }
   },
   "outputs": [],
   "source": [
    "from snappy import GPF\n",
    "from snappy import HashMap\n",
    "import snappy\n",
    "\n",
    "WKTReader = snappy.jpy.get_type('com.vividsolutions.jts.io.WKTReader')\n",
    "\n",
    "geom = WKTReader().read(aoi);\n",
    "\n",
    "\n",
    "HashMap = jpy.get_type('java.util.HashMap')    \n",
    "GPF.getDefaultInstance().getOperatorSpiRegistry().loadOperatorSpis()\n",
    "\n",
    "parameters = HashMap()\n",
    "parameters.put('copyMetadata', True)\n",
    "parameters.put('geoRegion', geom)\n",
    "\n",
    "subsets = []\n",
    "\n",
    "for product in products:\n",
    "\n",
    "    subset = GPF.createProduct('Subset', parameters, product)\n",
    "    subsets.append(subset)"
   ]
  },
  {
   "cell_type": "markdown",
   "metadata": {},
   "source": [
    "##### <a name=\"calibration\">Step 1: Pre-processing - Land-Sea-Mask"
   ]
  },
  {
   "cell_type": "code",
   "execution_count": 10,
   "metadata": {},
   "outputs": [],
   "source": [
    "parameters = HashMap()\n",
    "\n",
    "parameters.put('vectorFile', '/workspace/dev/ewf-ext-02-02-01/src/main/app-resources/notebook/libexec/land_vector/land.shp')\n",
    "parameters.put('separateShapes', False)\n",
    "\n",
    "addvectors = []\n",
    "\n",
    "for subset in subsets:\n",
    "\n",
    "    addvector = GPF.createProduct('Import-Vector', parameters, subset)\n",
    "    addvectors.append(addvector)"
   ]
  },
  {
   "cell_type": "code",
   "execution_count": 11,
   "metadata": {},
   "outputs": [],
   "source": [
    "parameters = HashMap()\n",
    "\n",
    "parameters.put('landMask', False)\n",
    "parameters.put('useSRTM', False)\n",
    "parameters.put('geometry', 'land')\n",
    "parameters.put('invertGeometry', True)\n",
    "parameters.put('shorelineExtension', 10)\n",
    "\n",
    "landMaskeds = []\n",
    "\n",
    "for addvector in addvectors:\n",
    "    landMasked = GPF.createProduct('Land-Sea-Mask', parameters, addvector)\n",
    "    landMaskeds.append(landMasked)"
   ]
  },
  {
   "cell_type": "markdown",
   "metadata": {
    "slideshow": {
     "slide_type": "slide"
    }
   },
   "source": [
    "##### <a name=\"calibration\">Step 2: Pre-processing - Calibration\n",
    "\n",
    "The objective of SAR calibration is to provide imagery in which the pixel values can be directly related to the radar backscatter of the scene. Though uncalibrated SAR imagery is sufficient for qualitative use, calibrated SAR images are essential to quantitative use of SAR data.\n",
    "\n",
    "Typical SAR data processing, which produces level 1 images, does not include radiometric corrections and significant radiometric bias remains. Therefore, it is necessary to apply the radiometric correction to SAR images so that the pixel values of the SAR images truly represent the radar backscatter of the reflecting surface. The radiometric correction is also necessary for the comparison of SAR images acquired with different sensors, or acquired from the same sensor but at different times, in different modes, or processed by different processors."
   ]
  },
  {
   "cell_type": "code",
   "execution_count": 12,
   "metadata": {
    "collapsed": false,
    "slideshow": {
     "slide_type": "subslide"
    }
   },
   "outputs": [],
   "source": [
    "parameters = HashMap()\n",
    "\n",
    "parameters.put('auxFile', 'Latest Auxiliary File')\n",
    "parameters.put('outputSigmaBand', True)\n",
    "#parameters.put('selectedPolarisations', 'HH')\n",
    "\n",
    "calibrates = []\n",
    "\n",
    "for landMasked in landMaskeds:\n",
    "\n",
    "    calibrate = GPF.createProduct('Calibration', parameters, landMasked)\n",
    "    calibrates.append(calibrate)"
   ]
  },
  {
   "cell_type": "markdown",
   "metadata": {
    "slideshow": {
     "slide_type": "slide"
    }
   },
   "source": [
    "##### <a name=\"speckle\">Step X: Pre-processing - Speckle filtering\n",
    "\n",
    "SAR images have inherent salt and pepper like texturing called speckles which degrade the quality of the image and make interpretation of features more difficult. Speckles are caused by random constructive and destructive interference of the de-phased but coherent return waves scattered by the elementary scatters within each resolution cell. Speckle noise reduction can be applied either by spatial filtering or multilook processing. "
   ]
  },
  {
   "cell_type": "code",
   "execution_count": 13,
   "metadata": {
    "collapsed": false,
    "slideshow": {
     "slide_type": "subslide"
    }
   },
   "outputs": [
    {
     "data": {
      "text/plain": [
       "\"\\nparameters = HashMap()\\n\\nparameters.put('filter', 'Lee')\\nparameters.put('filterSizeX', 7)\\nparameters.put('filterSizeY', 7)\\nparameters.put('dampingFactor', 2)\\nparameters.put('edgeThreshold', 5000.0)\\nparameters.put('estimateENL', True)\\nparameters.put('enl', 1.0)\\n\\nspeckles = []\\n\\nfor calibrate in calibrates:\\n\\n    speckle = GPF.createProduct('Speckle-Filter', parameters, calibrate)\\n    speckles.append(speckle)\\n\""
      ]
     },
     "execution_count": 13,
     "metadata": {},
     "output_type": "execute_result"
    }
   ],
   "source": [
    "'''\n",
    "parameters = HashMap()\n",
    "\n",
    "parameters.put('filter', 'Lee')\n",
    "parameters.put('filterSizeX', 7)\n",
    "parameters.put('filterSizeY', 7)\n",
    "parameters.put('dampingFactor', 2)\n",
    "parameters.put('edgeThreshold', 5000.0)\n",
    "parameters.put('estimateENL', True)\n",
    "parameters.put('enl', 1.0)\n",
    "\n",
    "speckles = []\n",
    "\n",
    "for calibrate in calibrates:\n",
    "\n",
    "    speckle = GPF.createProduct('Speckle-Filter', parameters, calibrate)\n",
    "    speckles.append(speckle)\n",
    "'''"
   ]
  },
  {
   "cell_type": "code",
   "execution_count": 14,
   "metadata": {},
   "outputs": [],
   "source": [
    "parameters = HashMap()\n",
    "\n",
    "parameters.put('sourceBands', 'Sigma0_HH,Sigma0_HV')\n",
    "parameters.put('backgroundWindowSize', 13)\n",
    "parameters.put('k', 2.0)\n",
    "\n",
    "speckles = []\n",
    "\n",
    "for calibrate in calibrates:\n",
    "\n",
    "    speckle = GPF.createProduct('Oil-Spill-Detection', parameters, calibrate)\n",
    "    speckles.append(speckle)"
   ]
  },
  {
   "cell_type": "markdown",
   "metadata": {},
   "source": [
    "#####  <a name=\"lineartodb\">Step 3: Pre-processing - Linear to dB"
   ]
  },
  {
   "cell_type": "code",
   "execution_count": 15,
   "metadata": {
    "collapsed": false
   },
   "outputs": [],
   "source": [
    "'''\n",
    "parameters = HashMap()\n",
    "\n",
    "lineartodbs= []\n",
    "dates = [];\n",
    "\n",
    "for speckle in speckles : \n",
    "\n",
    "    lineartodb = GPF.createProduct('linearToFromdB', parameters, speckle)\n",
    "    lineartodbs.append(lineartodb)\n",
    "    name = lineartodb.getName()\n",
    "    timestamp = name.split(\"_\")[5] \n",
    "    date = timestamp[:8]\n",
    "    dates.append(date)\n",
    "'''\n",
    "\n",
    "parameters = HashMap()\n",
    "\n",
    "parameters.put('minClusterSizeInKm2', 0.1)\n",
    "\n",
    "lineartodbs= []\n",
    "dates = [];\n",
    "\n",
    "for speckle in speckles : \n",
    "\n",
    "    lineartodb = GPF.createProduct('Oil-Spill-Clustering', parameters, speckle)\n",
    "    lineartodbs.append(lineartodb)\n",
    "    name = lineartodb.getName()\n",
    "    timestamp = name.split(\"_\")[5] \n",
    "    date = timestamp[:8]\n",
    "    dates.append(date)"
   ]
  },
  {
   "cell_type": "code",
   "execution_count": 16,
   "metadata": {},
   "outputs": [
    {
     "data": {
      "text/plain": [
       "['DEFAULT_IMAGE_CRS',\n",
       " 'GEOMETRY_FEATURE_TYPE_NAME',\n",
       " 'HISTORY_ROOT_NAME',\n",
       " 'METADATA_ROOT_NAME',\n",
       " 'PROPERTY_NAME_DESCRIPTION',\n",
       " 'PROPERTY_NAME_FILE_LOCATION',\n",
       " 'PROPERTY_NAME_NAME',\n",
       " 'PROPERTY_NAME_PRODUCT_TYPE',\n",
       " 'PROPERTY_NAME_SCENE_CRS',\n",
       " 'PROPERTY_NAME_SCENE_GEO_CODING',\n",
       " 'PROPERTY_NAME_SCENE_TIME_CODING',\n",
       " '__class__',\n",
       " '__delattr__',\n",
       " '__doc__',\n",
       " '__eq__',\n",
       " '__format__',\n",
       " '__ge__',\n",
       " '__getattribute__',\n",
       " '__gt__',\n",
       " '__hash__',\n",
       " '__init__',\n",
       " '__jinit__',\n",
       " '__le__',\n",
       " '__lt__',\n",
       " '__ne__',\n",
       " '__new__',\n",
       " '__reduce__',\n",
       " '__reduce_ex__',\n",
       " '__repr__',\n",
       " '__setattr__',\n",
       " '__sizeof__',\n",
       " '__str__',\n",
       " '__subclasshook__',\n",
       " 'acceptVisitor',\n",
       " 'addBand',\n",
       " 'addMask',\n",
       " 'addProductNodeListener',\n",
       " 'addTiePointGrid',\n",
       " 'canBeOrthorectified',\n",
       " 'closeIO',\n",
       " 'closeProductReader',\n",
       " 'closeProductWriter',\n",
       " 'containsBand',\n",
       " 'containsPixel',\n",
       " 'containsRasterDataNode',\n",
       " 'containsTiePointGrid',\n",
       " 'createBandArithmeticDefaultNamespace',\n",
       " 'createBandArithmeticParser',\n",
       " 'createMultiLevelModel',\n",
       " 'createPixelInfoString',\n",
       " 'createSubset',\n",
       " 'dispose',\n",
       " 'equals',\n",
       " 'findImageToModelTransform',\n",
       " 'findModelCRS',\n",
       " 'fireProductNodeChanged',\n",
       " 'getAllFlagNames',\n",
       " 'getAutoGrouping',\n",
       " 'getBand',\n",
       " 'getBandAt',\n",
       " 'getBandGroup',\n",
       " 'getBandIndex',\n",
       " 'getBandNames',\n",
       " 'getBands',\n",
       " 'getClass',\n",
       " 'getDefaultQuicklook',\n",
       " 'getDescription',\n",
       " 'getDisplayName',\n",
       " 'getEndTime',\n",
       " 'getExtension',\n",
       " 'getFileLocation',\n",
       " 'getFlagCodingGroup',\n",
       " 'getGcpGroup',\n",
       " 'getGroup',\n",
       " 'getGroups',\n",
       " 'getIndexCodingGroup',\n",
       " 'getMaskGroup',\n",
       " 'getMaskImage',\n",
       " 'getMetadataRoot',\n",
       " 'getName',\n",
       " 'getNumBands',\n",
       " 'getNumResolutionsMax',\n",
       " 'getNumTiePointGrids',\n",
       " 'getOwner',\n",
       " 'getPinGroup',\n",
       " 'getPointingFactory',\n",
       " 'getPreferredTileSize',\n",
       " 'getProduct',\n",
       " 'getProductManager',\n",
       " 'getProductNodeListeners',\n",
       " 'getProductReader',\n",
       " 'getProductRefString',\n",
       " 'getProductType',\n",
       " 'getProductWriter',\n",
       " 'getQuicklook',\n",
       " 'getQuicklookBandName',\n",
       " 'getQuicklookGroup',\n",
       " 'getRasterDataNode',\n",
       " 'getRasterDataNodes',\n",
       " 'getRawStorageSize',\n",
       " 'getRefNo',\n",
       " 'getRefRasterDataNodes',\n",
       " 'getRemovedChildNodes',\n",
       " 'getSceneCRS',\n",
       " 'getSceneGeoCoding',\n",
       " 'getSceneRasterHeight',\n",
       " 'getSceneRasterSize',\n",
       " 'getSceneRasterWidth',\n",
       " 'getSceneTimeCoding',\n",
       " 'getStartTime',\n",
       " 'getTiePointGrid',\n",
       " 'getTiePointGridAt',\n",
       " 'getTiePointGridGroup',\n",
       " 'getTiePointGridNames',\n",
       " 'getTiePointGrids',\n",
       " 'getVectorDataGroup',\n",
       " 'hashCode',\n",
       " 'isCompatibleBandArithmeticExpression',\n",
       " 'isCompatibleProduct',\n",
       " 'isModified',\n",
       " 'isMultiSize',\n",
       " 'isSceneCrsASharedModelCrs',\n",
       " 'isSceneCrsEqualToModelCrsOf',\n",
       " 'isUsingSingleGeoCoding',\n",
       " 'isValidNodeName',\n",
       " 'jclass',\n",
       " 'notify',\n",
       " 'notifyAll',\n",
       " 'parseExpression',\n",
       " 'removeBand',\n",
       " 'removeFromFile',\n",
       " 'removeProductNodeListener',\n",
       " 'removeTiePointGrid',\n",
       " 'resetRefNo',\n",
       " 'setAutoGrouping',\n",
       " 'setDescription',\n",
       " 'setEndTime',\n",
       " 'setFileLocation',\n",
       " 'setModified',\n",
       " 'setName',\n",
       " 'setNumResolutionsMax',\n",
       " 'setOwner',\n",
       " 'setPointingFactory',\n",
       " 'setPreferredTileSize',\n",
       " 'setProductReader',\n",
       " 'setProductType',\n",
       " 'setProductWriter',\n",
       " 'setQuicklookBandName',\n",
       " 'setRefNo',\n",
       " 'setSceneCRS',\n",
       " 'setSceneGeoCoding',\n",
       " 'setSceneTimeCoding',\n",
       " 'setStartTime',\n",
       " 'toString',\n",
       " 'transferGeoCodingTo',\n",
       " 'updateExpression',\n",
       " 'wait',\n",
       " 'writeHeader']"
      ]
     },
     "execution_count": 16,
     "metadata": {},
     "output_type": "execute_result"
    }
   ],
   "source": [
    "dir(lineartodb)"
   ]
  },
  {
   "cell_type": "code",
   "execution_count": 17,
   "metadata": {},
   "outputs": [
    {
     "name": "stdout",
     "output_type": "stream",
     "text": [
      "['Sigma0_HH', 'Sigma0_HH_oil_spill_bit_msk', 'Sigma0_HV', 'Sigma0_HV_oil_spill_bit_msk']\n"
     ]
    }
   ],
   "source": [
    "band_names = list(lineartodbs[0].getBandNames())\n",
    "print(band_names)"
   ]
  },
  {
   "cell_type": "code",
   "execution_count": 18,
   "metadata": {
    "collapsed": false,
    "scrolled": true,
    "slideshow": {
     "slide_type": "subslide"
    }
   },
   "outputs": [
    {
     "data": {
      "image/png": "[encoded data removed]",
      "text/plain": [
       "<matplotlib.figure.Figure at 0x7fcb7bf0d310>"
      ]
     },
     "metadata": {},
     "output_type": "display_data"
    },
    {
     "data": {
      "text/plain": [
       "1108"
      ]
     },
     "execution_count": 18,
     "metadata": {},
     "output_type": "execute_result"
    }
   ],
   "source": [
    "import numpy as np\n",
    "import matplotlib\n",
    "import matplotlib.pyplot as plt\n",
    "import matplotlib.colors as colors\n",
    "import gc \n",
    "\n",
    "%matplotlib inline\n",
    "\n",
    "def plotBand(product, band, vmin, vmax):\n",
    "     \n",
    "    band = product.getBand(band)\n",
    "\n",
    "    w = band.getRasterWidth()\n",
    "    h = band.getRasterHeight()\n",
    "\n",
    "    band_data = np.zeros(w * h, np.float32)\n",
    "    band.readPixels(0, 0, w, h, band_data)\n",
    "\n",
    "    band_data.shape = h, w\n",
    "\n",
    "    imgplot = plt.imshow(band_data, cmap=plt.cm.binary_r, vmin=vmin, vmax=vmax)\n",
    "\n",
    "    \n",
    "    return imgplot \n",
    "\n",
    "\n",
    "fig = plt.figure(figsize=(20,20))\n",
    "i = 1\n",
    "\n",
    "\n",
    "for lineartodb in lineartodbs :\n",
    "    \n",
    "        a=fig.add_subplot(330+i)\n",
    "        imgplot = plotBand(lineartodb, 'Sigma0_HH', -25, 5)\n",
    "        name = lineartodb.getName()\n",
    "        timestamp = name.split(\"_\")[5] \n",
    "        date = timestamp[:8]\n",
    "        a.set_title(date)\n",
    "        i = i+1\n",
    "\n",
    "plt.tight_layout()\n",
    "fig = plt.gcf()\n",
    "plt.show()\n",
    "\n",
    "fig.clf()\n",
    "plt.close()\n",
    "gc.collect()"
   ]
  },
  {
   "cell_type": "code",
   "execution_count": 19,
   "metadata": {},
   "outputs": [
    {
     "data": {
      "text/plain": [
       "'Subset_S1B_IW_GRDH_1SDH_20171025T204653_20171025T204718_007991_00E1E2_CBD2_Cal'"
      ]
     },
     "execution_count": 19,
     "metadata": {},
     "output_type": "execute_result"
    }
   ],
   "source": [
    "lineartodbs[0].getName()"
   ]
  },
  {
   "cell_type": "code",
   "execution_count": null,
   "metadata": {},
   "outputs": [],
   "source": [
    "thermal_noise_removal = None\n",
    "apply_orbit_file = None\n",
    "calibration = None\n",
    "speckle_filter = None\n",
    "terrain_correction = None\n",
    "\n",
    "gc.collect()"
   ]
  },
  {
   "cell_type": "code",
   "execution_count": 20,
   "metadata": {},
   "outputs": [],
   "source": [
    " ProductIO.writeProduct(lineartodbs[0], lineartodbs[0].getName(), 'BEAM-DIMAP')"
   ]
  },
  {
   "cell_type": "code",
   "execution_count": null,
   "metadata": {},
   "outputs": [],
   "source": []
  }
 ],
 "metadata": {
  "kernelspec": {
   "display_name": "Python 2",
   "language": "python",
   "name": "python2"
  },
  "language_info": {
   "codemirror_mode": {
    "name": "ipython",
    "version": 2
   },
   "file_extension": ".py",
   "mimetype": "text/x-python",
   "name": "python",
   "nbconvert_exporter": "python",
   "pygments_lexer": "ipython2",
   "version": "2.7.13"
  }
 },
 "nbformat": 4,
 "nbformat_minor": 2
}
