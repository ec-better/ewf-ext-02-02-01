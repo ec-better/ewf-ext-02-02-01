{
 "cells": [
  {
   "cell_type": "markdown",
   "metadata": {
    "slideshow": {
     "slide_type": "skip"
    }
   },
   "source": [
    "## ewf-ext-02-02-01 Oil sheen of natural oil seepage with Sentinel-1"
   ]
  },
  {
   "cell_type": "markdown",
   "metadata": {},
   "source": [
    "### <a name=\"service\">Service definition"
   ]
  },
  {
   "cell_type": "code",
   "execution_count": 1,
   "metadata": {
    "collapsed": true
   },
   "outputs": [],
   "source": [
    "service = dict([('title', 'ewf-ext-02-02-01 Oil sheen of natural oil seepage with Sentinel-1'),\n",
    "                ('abstract', 'ewf-ext-02-02-01 Oil sheen of natural oil seepage with Sentinel-1'),\n",
    "                ('id', 'ewf-ext-02-02-01')])"
   ]
  },
  {
   "cell_type": "markdown",
   "metadata": {},
   "source": [
    "### <a name=\"parameter\">Parameter Definition"
   ]
  },
  {
   "cell_type": "code",
   "execution_count": 2,
   "metadata": {},
   "outputs": [],
   "source": [
    "backgroundWindowSize = dict([('id', 'backgroundWindowSize'),\n",
    "                             ('value', '181'),\n",
    "                             ('title', 'Background Window Size'),\n",
    "                             ('abstract', 'Background Window Size: The window size in pixels for computing local mean backscatter level.'),\n",
    "                             ('minOccurs', '1')])"
   ]
  },
  {
   "cell_type": "code",
   "execution_count": 3,
   "metadata": {},
   "outputs": [],
   "source": [
    "thresholdShift = dict([('id', 'thresholdShift'),\n",
    "                       ('value', '2.0'),\n",
    "                       ('title', 'Threshold Shift'),\n",
    "                       ('abstract', 'Threshold Shift (dB): The detecting threshold is lower than the local mean backscatter level by this amount.'),\n",
    "                       ('minOccurs', '1')])"
   ]
  },
  {
   "cell_type": "code",
   "execution_count": 4,
   "metadata": {},
   "outputs": [],
   "source": [
    "minClusterSizeInKm2 = dict([('id', 'minClusterSizeInKm2'),\n",
    "                            ('value', '0.1'),\n",
    "                            ('title', 'minClusterSizeInKm2'),\n",
    "                            ('abstract', 'The minimum cluster size in square kilometer. Cluster with size smaller than this size is eliminated.'),\n",
    "                            ('minOccurs', '1')])"
   ]
  },
  {
   "cell_type": "code",
   "execution_count": 5,
   "metadata": {},
   "outputs": [],
   "source": [
    "regionOfInterest = dict([('id', 'regionOfInterest'),\n",
    "                         ('value', 'POLYGON((-54.333 71.558, -49.843 71.558, -49.843 69.713, -54.333 69.713, -54.333 71.558))'),\n",
    "                         ('title', 'WKT Polygon for the Region of Interest'),\n",
    "                         ('abstract', 'Set the value of WKT Polygon')])"
   ]
  },
  {
   "cell_type": "markdown",
   "metadata": {},
   "source": [
    "### <a name=\"runtime\">Runtime parameter definition"
   ]
  },
  {
   "cell_type": "markdown",
   "metadata": {},
   "source": [
    "**Input identifiers**\n",
    "\n",
    "This is the Sentinel-1 stack of products' identifiers"
   ]
  },
  {
   "cell_type": "code",
   "execution_count": 6,
   "metadata": {
    "collapsed": true
   },
   "outputs": [],
   "source": [
    "input_identifiers = ['S1B_IW_GRDH_1SDH_20171025T204653_20171025T204718_007991_00E1E2_CBD2']"
   ]
  },
  {
   "cell_type": "markdown",
   "metadata": {},
   "source": [
    "**Input references**\n",
    "\n",
    "This is the Sentinel-1 stack catalogue references"
   ]
  },
  {
   "cell_type": "code",
   "execution_count": 7,
   "metadata": {
    "collapsed": false,
    "slideshow": {
     "slide_type": "subslide"
    }
   },
   "outputs": [],
   "source": [
    "input_references = ['https://catalog.terradue.com/sentinel1/search?uid=S1B_IW_GRDH_1SDH_20171025T204653_20171025T204718_007991_00E1E2_CBD2']"
   ]
  },
  {
   "cell_type": "markdown",
   "metadata": {
    "slideshow": {
     "slide_type": "slide"
    }
   },
   "source": [
    "**Data path**\n",
    "\n",
    "This path defines where the data is staged-in."
   ]
  },
  {
   "cell_type": "code",
   "execution_count": 8,
   "metadata": {
    "collapsed": true
   },
   "outputs": [],
   "source": [
    "data_path = \"/workspace/data\""
   ]
  },
  {
   "cell_type": "markdown",
   "metadata": {},
   "source": [
    "**Aux folders**"
   ]
  },
  {
   "cell_type": "code",
   "execution_count": 9,
   "metadata": {},
   "outputs": [],
   "source": [
    "output_folder = ''\n",
    "temp_folder = 'temp'"
   ]
  },
  {
   "cell_type": "markdown",
   "metadata": {},
   "source": [
    "### <a name=\"workflow\">Workflow"
   ]
  },
  {
   "cell_type": "markdown",
   "metadata": {},
   "source": [
    "#### Import the packages required for processing the data"
   ]
  },
  {
   "cell_type": "code",
   "execution_count": 10,
   "metadata": {
    "collapsed": true
   },
   "outputs": [],
   "source": [
    "import snappy\n",
    "\n",
    "from snappy import jpy\n",
    "from snappy import ProductIO\n",
    "from snappy import GPF\n",
    "from snappy import HashMap\n",
    "\n",
    "import numpy as np\n",
    "from osgeo import gdal, ogr, osr\n",
    "\n",
    "import os\n",
    "import shutil\n",
    "\n",
    "import gc\n",
    "\n",
    "import datetime\n",
    "\n",
    "import cioppy\n",
    "ciop = cioppy.Cioppy() "
   ]
  },
  {
   "cell_type": "markdown",
   "metadata": {},
   "source": [
    "#### Methods"
   ]
  },
  {
   "cell_type": "code",
   "execution_count": 11,
   "metadata": {},
   "outputs": [],
   "source": [
    "# remove contents of a given folder\n",
    "# used to clean a temporary folder\n",
    "def rm_cfolder(folder):\n",
    "    for the_file in os.listdir(folder):\n",
    "        file_path = os.path.join(folder, the_file)\n",
    "        try:\n",
    "            if os.path.isfile(file_path):\n",
    "                os.unlink(file_path)\n",
    "            elif os.path.isdir(file_path): shutil.rmtree(file_path)\n",
    "        except Exception as e:\n",
    "            print(e)\n",
    "            \n",
    "def write_output_image(filepath, output_matrix, image_format, data_format, mask=None, output_projection=None, output_geotransform=None, no_data_value=None):\n",
    "    \n",
    "    driver = gdal.GetDriverByName(image_format)\n",
    "    out_rows = np.size(output_matrix, 0)\n",
    "    out_columns = np.size(output_matrix, 1)\n",
    "    \n",
    "    \n",
    "    if mask is not None and mask is not 0:\n",
    "        # TODO: check if output folder exists\n",
    "        output = driver.Create(filepath, out_columns, out_rows, 2, data_format)\n",
    "        mask_band = output.GetRasterBand(2)\n",
    "        mask_band.WriteArray(mask)\n",
    "        if no_data_value is not None:\n",
    "            output_matrix[mask > 0] = no_data_value\n",
    "    else:\n",
    "        output = driver.Create(filepath, out_columns, out_rows, 1, data_format)\n",
    "    \n",
    "    if output_projection is not None:\n",
    "        output.SetProjection(output_projection)\n",
    "    if output_geotransform is not None:\n",
    "        output.SetGeoTransform(output_geotransform)\n",
    "    \n",
    "    raster_band = output.GetRasterBand(1)\n",
    "    if no_data_value is not None:\n",
    "        raster_band.SetNoDataValue(no_data_value)\n",
    "    raster_band.WriteArray(output_matrix)\n",
    "    \n",
    "    gdal.Warp(filepath, output, format=\"GTiff\", outputBoundsSRS='EPSG:4326', xRes=output_geotransform[1], yRes=-output_geotransform[5], targetAlignedPixels=True)\n",
    "    \n",
    "    \n",
    "def get_formatted_date(datetime_str):\n",
    "    date = datetime.datetime.strftime(datetime_str, '%Y-%m-%dT%H:%M:%SZ')\n",
    "    return date\n",
    "\n",
    "\n",
    "def write_properties_file(output_name, first_date, last_date, region_of_interest):\n",
    "    \n",
    "    title = 'Output %s' % output_name\n",
    "    \n",
    "    first_date = datetime.datetime(year=first_date.year, month=first_date.month, day=first_date.day)\n",
    "    first_date = first_date + datetime.timedelta(days=0, hours=0, minutes=0, seconds=0)\n",
    "    first_date = get_formatted_date(first_date)\n",
    "    \n",
    "    last_date = datetime.datetime(year=last_date.year, month=last_date.month, day=last_date.day)\n",
    "    last_date = last_date + datetime.timedelta(days=0, hours=23, minutes=59, seconds=59)\n",
    "    last_date = get_formatted_date(last_date)\n",
    "\n",
    "    with open(output_name + '.properties', 'wb') as file:\n",
    "        file.write('title=%s\\n' % title)\n",
    "        file.write('date=%s/%s\\n' % (first_date, last_date))\n",
    "        file.write('geometry=%s' % (region_of_interest))"
   ]
  },
  {
   "cell_type": "code",
   "execution_count": 12,
   "metadata": {},
   "outputs": [],
   "source": [
    "check_results = False"
   ]
  },
  {
   "cell_type": "markdown",
   "metadata": {},
   "source": [
    "#### Read the products"
   ]
  },
  {
   "cell_type": "code",
   "execution_count": null,
   "metadata": {},
   "outputs": [],
   "source": [
    "if len(output_folder) > 0:\n",
    "    if not os.path.isdir(output_folder):\n",
    "        os.mkdir(output_folder)\n",
    "\n",
    "if not os.path.isdir(temp_folder):\n",
    "    os.mkdir(temp_folder)"
   ]
  },
  {
   "cell_type": "code",
   "execution_count": null,
   "metadata": {
    "collapsed": false,
    "slideshow": {
     "slide_type": "subslide"
    }
   },
   "outputs": [],
   "source": [
    "s1meta = \"manifest.safe\"\n",
    "\n",
    "products = []\n",
    "\n",
    "for s1path in input_identifiers:\n",
    "\n",
    "    s1prd= \"%s/%s/%s.SAFE/%s\" % (data_path, s1path, s1path, s1meta)\n",
    "    reader = ProductIO.getProductReader(\"SENTINEL-1\")\n",
    "    product = reader.readProductNodes(s1prd, None)\n",
    "    products.append(product)"
   ]
  },
  {
   "cell_type": "markdown",
   "metadata": {
    "slideshow": {
     "slide_type": "slide"
    }
   },
   "source": [
    "#### Extract information about the Sentinel-1 GRD products:"
   ]
  },
  {
   "cell_type": "code",
   "execution_count": null,
   "metadata": {
    "collapsed": false,
    "slideshow": {
     "slide_type": "subslide"
    }
   },
   "outputs": [],
   "source": [
    "for product in products:\n",
    "\n",
    "    width = product.getSceneRasterWidth()\n",
    "    height = product.getSceneRasterHeight()\n",
    "    name = product.getName()\n",
    "    band_names = product.getBandNames()\n",
    "    print(\"Product: %s, %d x %d pixels\" % (name, width, height))\n",
    "    print(\"Bands:   %s\" % (list(band_names)))\n",
    "    "
   ]
  },
  {
   "cell_type": "markdown",
   "metadata": {
    "slideshow": {
     "slide_type": "slide"
    }
   },
   "source": [
    "#### Process the data"
   ]
  },
  {
   "cell_type": "markdown",
   "metadata": {},
   "source": [
    "##### Check number of products"
   ]
  },
  {
   "cell_type": "code",
   "execution_count": null,
   "metadata": {},
   "outputs": [],
   "source": [
    "nProducts = len(products)\n",
    "\n",
    "if nProducts == 1:\n",
    "    \n",
    "    product = products[0]\n",
    "    \n",
    "else:\n",
    "    pass # TODO: merge"
   ]
  },
  {
   "cell_type": "markdown",
   "metadata": {
    "slideshow": {
     "slide_type": "slide"
    }
   },
   "source": [
    "##### Subset"
   ]
  },
  {
   "cell_type": "code",
   "execution_count": null,
   "metadata": {
    "collapsed": true
   },
   "outputs": [],
   "source": [
    "#aoi = 'POLYGON((-54.333 71.559, -49.842 71.559, -49.842 69.713, -54.333 69.713, -54.333 71.559))'\n",
    "#aoi = 'POLYGON((-54.333 71.558, -49.843 71.558, -49.843 69.713, -54.333 69.713, -54.333 71.558))'\n",
    "aoi = regionOfInterest['value']"
   ]
  },
  {
   "cell_type": "code",
   "execution_count": null,
   "metadata": {
    "collapsed": false,
    "slideshow": {
     "slide_type": "subslide"
    }
   },
   "outputs": [],
   "source": [
    "WKTReader = snappy.jpy.get_type('com.vividsolutions.jts.io.WKTReader')\n",
    "\n",
    "geom = WKTReader().read(aoi);\n",
    "\n",
    "\n",
    "HashMap = jpy.get_type('java.util.HashMap')    \n",
    "GPF.getDefaultInstance().getOperatorSpiRegistry().loadOperatorSpis()\n",
    "\n",
    "parameters = HashMap()\n",
    "parameters.put('copyMetadata', True)\n",
    "parameters.put('geoRegion', geom)\n",
    "\n",
    "subset = GPF.createProduct('Subset', parameters, product)"
   ]
  },
  {
   "cell_type": "markdown",
   "metadata": {
    "slideshow": {
     "slide_type": "slide"
    }
   },
   "source": [
    "##### Calibration"
   ]
  },
  {
   "cell_type": "code",
   "execution_count": null,
   "metadata": {
    "collapsed": false,
    "slideshow": {
     "slide_type": "subslide"
    }
   },
   "outputs": [],
   "source": [
    "parameters = HashMap()\n",
    "\n",
    "parameters.put('auxFile', 'Latest Auxiliary File')\n",
    "parameters.put('outputSigmaBand', True)\n",
    "#parameters.put('selectedPolarisations', 'HH')\n",
    "\n",
    "calibrate = GPF.createProduct('Calibration', parameters, subset)"
   ]
  },
  {
   "cell_type": "markdown",
   "metadata": {},
   "source": [
    "##### Speckle-Filter"
   ]
  },
  {
   "cell_type": "code",
   "execution_count": null,
   "metadata": {},
   "outputs": [],
   "source": [
    "parameters = HashMap()\n",
    "\n",
    "parameters.put('filter','Lee')\n",
    "parameters.put('filterSizeX','3')\n",
    "parameters.put('filterSizeY','3')\n",
    "parameters.put('dampingFactor','2')\n",
    "parameters.put('estimateENL',True)\n",
    "parameters.put('enl','1.0')\n",
    "parameters.put('numLooksStr','1')\n",
    "parameters.put('windowSize','7x7')\n",
    "parameters.put('targetWindowSizeStr','3x3')\n",
    "parameters.put('sigmaStr','0.9')\n",
    "parameters.put('anSize','50')\n",
    "\n",
    "filtered = GPF.createProduct('Speckle-Filter', parameters, calibrate)"
   ]
  },
  {
   "cell_type": "markdown",
   "metadata": {},
   "source": [
    "##### Land-Sea-Mask"
   ]
  },
  {
   "cell_type": "code",
   "execution_count": null,
   "metadata": {},
   "outputs": [],
   "source": [
    "parameters = HashMap()\n",
    "\n",
    "parameters.put('vectorFile', '/workspace/dev/ewf-ext-02-02-01/src/main/app-resources/notebook/libexec/land_vector/land.shp')\n",
    "parameters.put('separateShapes', False)\n",
    "\n",
    "addvector = GPF.createProduct('Import-Vector', parameters, filtered)"
   ]
  },
  {
   "cell_type": "code",
   "execution_count": null,
   "metadata": {},
   "outputs": [],
   "source": [
    "parameters = HashMap()\n",
    "\n",
    "parameters.put('landMask', False)\n",
    "parameters.put('useSRTM', False)\n",
    "parameters.put('geometry', 'land')\n",
    "parameters.put('invertGeometry', True)\n",
    "parameters.put('shorelineExtension', 10)\n",
    "\n",
    "landMasked = GPF.createProduct('Land-Sea-Mask', parameters, addvector)"
   ]
  },
  {
   "cell_type": "markdown",
   "metadata": {
    "slideshow": {
     "slide_type": "slide"
    }
   },
   "source": [
    "##### Oil-Spill-Detection"
   ]
  },
  {
   "cell_type": "code",
   "execution_count": null,
   "metadata": {},
   "outputs": [],
   "source": [
    "var1 = int(backgroundWindowSize['value'])\n",
    "var2 = float(thresholdShift['value'])\n",
    "\n",
    "parameters = HashMap()\n",
    "\n",
    "parameters.put('sourceBands', 'Sigma0_HH,Sigma0_HV')\n",
    "parameters.put('backgroundWindowSize', var1)\n",
    "parameters.put('k', var2)\n",
    "\n",
    "oildetection = GPF.createProduct('Oil-Spill-Detection', parameters, landMasked)"
   ]
  },
  {
   "cell_type": "markdown",
   "metadata": {},
   "source": [
    "#####  Oil-Spill-Clustering"
   ]
  },
  {
   "cell_type": "code",
   "execution_count": null,
   "metadata": {
    "collapsed": false
   },
   "outputs": [],
   "source": [
    "var1 = float(minClusterSizeInKm2['value'])\n",
    "\n",
    "parameters = HashMap()\n",
    "\n",
    "parameters.put('minClusterSizeInKm2', var1)\n",
    "\n",
    "oilclust = GPF.createProduct('Oil-Spill-Clustering', parameters, oildetection)\n",
    "name = oilclust.getName()\n",
    "timestamp = name.split(\"_\")[5] \n",
    "date = timestamp[:8]"
   ]
  },
  {
   "cell_type": "code",
   "execution_count": null,
   "metadata": {},
   "outputs": [],
   "source": [
    "#dir(oilclust)"
   ]
  },
  {
   "cell_type": "code",
   "execution_count": null,
   "metadata": {},
   "outputs": [],
   "source": [
    "band_names = list(oilclust.getBandNames())\n",
    "print(band_names)"
   ]
  },
  {
   "cell_type": "code",
   "execution_count": null,
   "metadata": {
    "collapsed": false,
    "scrolled": true,
    "slideshow": {
     "slide_type": "subslide"
    }
   },
   "outputs": [],
   "source": [
    "if check_results:\n",
    "    import numpy as np\n",
    "    import matplotlib\n",
    "    import matplotlib.pyplot as plt\n",
    "    import matplotlib.colors as colors\n",
    "    import gc \n",
    "\n",
    "    %matplotlib inline\n",
    "\n",
    "    def plotBand(product, band, vmin, vmax):\n",
    "     \n",
    "        band = product.getBand(band)\n",
    "\n",
    "        w = band.getRasterWidth()\n",
    "        h = band.getRasterHeight()\n",
    "\n",
    "        band_data = np.zeros(w * h, np.float32)\n",
    "        band.readPixels(0, 0, w, h, band_data)\n",
    "\n",
    "        band_data.shape = h, w\n",
    "\n",
    "        imgplot = plt.imshow(band_data, cmap=plt.cm.binary_r, vmin=vmin, vmax=vmax)\n",
    "\n",
    "    \n",
    "        return imgplot \n",
    "\n",
    "\n",
    "    fig = plt.figure(figsize=(20,20))\n",
    "    i = 1\n",
    "\n",
    "    a=fig.add_subplot(330+i)\n",
    "    imgplot = plotBand(oilclust, 'Sigma0_HH', -25, 5)\n",
    "    name = oilclust.getName()\n",
    "    timestamp = name.split(\"_\")[5] \n",
    "    date = timestamp[:8]\n",
    "    a.set_title(date)\n",
    "    i = i+1\n",
    "\n",
    "    plt.tight_layout()\n",
    "    fig = plt.gcf()\n",
    "    plt.show()\n",
    "\n",
    "    fig.clf()\n",
    "    plt.close()\n",
    "    gc.collect()"
   ]
  },
  {
   "cell_type": "code",
   "execution_count": null,
   "metadata": {},
   "outputs": [],
   "source": [
    "#oilclust.getName()"
   ]
  },
  {
   "cell_type": "markdown",
   "metadata": {},
   "source": [
    "#####  Garbage collector"
   ]
  },
  {
   "cell_type": "code",
   "execution_count": null,
   "metadata": {},
   "outputs": [],
   "source": [
    "subset = None\n",
    "addvector = None\n",
    "landMasked = None\n",
    "calibrate = None\n",
    "oildetection = None\n",
    "#oilclust = None\n",
    "\n",
    "gc.collect()"
   ]
  },
  {
   "cell_type": "markdown",
   "metadata": {},
   "source": [
    "#####  Save temporary result"
   ]
  },
  {
   "cell_type": "code",
   "execution_count": null,
   "metadata": {},
   "outputs": [],
   "source": [
    "message = 'First part ...' \n",
    "ciop.log('INFO', message)\n",
    "\n",
    "output_path = os.path.join(temp_folder, oilclust.getName())\n",
    "\n",
    "ProductIO.writeProduct(oilclust, output_path, 'BEAM-DIMAP')"
   ]
  },
  {
   "cell_type": "code",
   "execution_count": null,
   "metadata": {},
   "outputs": [],
   "source": [
    "oilclust = None\n",
    "\n",
    "gc.collect()"
   ]
  },
  {
   "cell_type": "markdown",
   "metadata": {},
   "source": [
    "#####  Ellipsoid-Correction-RD"
   ]
  },
  {
   "cell_type": "code",
   "execution_count": null,
   "metadata": {},
   "outputs": [],
   "source": [
    "poildect = ProductIO.readProduct(output_path + '.dim')"
   ]
  },
  {
   "cell_type": "code",
   "execution_count": null,
   "metadata": {},
   "outputs": [],
   "source": [
    "parameters = HashMap()\n",
    "\n",
    "parameters.put('sourceBands', 'Sigma0_HH_oil_spill_bit_msk')\n",
    "\n",
    "parameters.put('demName', 'GETASSE30')\n",
    "parameters.put('imgResamplingMethod', 'BILINEAR_INTERPOLATION')\n",
    "\n",
    "proj = '''GEOGCS[\"WGS84(DD)\", DATUM[\"WGS84\", SPHEROID[\"WGS84\", 6378137.0, 298.257223563]], PRIMEM[\"Greenwich\", 0.0], UNIT[\"degree\", 0.017453292519943295], AXIS[\"Geodetic longitude\", EAST], AXIS[\"Geodetic latitude\", NORTH]]'''\n",
    "\n",
    "parameters.put('mapProjection', proj)       # comment this line if no need to convert to UTM/WGS84, default is WGS84parameters.put('saveProjectedLocalIncidenceAngle', True)\n",
    "parameters.put('saveSelectedSourceBand', True)\n",
    "\n",
    "parameters.put('pixelSpacingInMeter', 25.0)\n",
    "\n",
    "output = GPF.createProduct('Ellipsoid-Correction-RD', parameters, poildect)"
   ]
  },
  {
   "cell_type": "code",
   "execution_count": null,
   "metadata": {},
   "outputs": [],
   "source": [
    "message = 'Second part ...' \n",
    "ciop.log('INFO', message)\n",
    "\n",
    "output_path = os.path.join(temp_folder, output.getName() + '.tif')\n",
    "\n",
    "ProductIO.writeProduct(output, output_path, 'GeoTIFF')"
   ]
  },
  {
   "cell_type": "code",
   "execution_count": null,
   "metadata": {},
   "outputs": [],
   "source": []
  },
  {
   "cell_type": "code",
   "execution_count": null,
   "metadata": {},
   "outputs": [],
   "source": [
    "output = None\n",
    "\n",
    "gc.collect()"
   ]
  },
  {
   "cell_type": "markdown",
   "metadata": {},
   "source": [
    "#####  Save tiff file and properties file"
   ]
  },
  {
   "cell_type": "code",
   "execution_count": null,
   "metadata": {},
   "outputs": [],
   "source": [
    "dataset = gdal.Open(output_path)\n",
    "\n",
    "product_array = dataset.GetRasterBand(1).ReadAsArray()\n",
    "projection = dataset.GetProjection()\n",
    "geotransform = dataset.GetGeoTransform()\n",
    "no_data_value = dataset.GetRasterBand(1).GetNoDataValue()\n",
    "data_type = dataset.GetRasterBand(1).DataType"
   ]
  },
  {
   "cell_type": "code",
   "execution_count": null,
   "metadata": {},
   "outputs": [],
   "source": [
    "message = 'Last part ...' \n",
    "ciop.log('INFO', message)\n",
    "\n",
    "# date in str\n",
    "date_str = input_identifiers[0].split('_')[4].split('T')[0]\n",
    "\n",
    "# date in datetime\n",
    "dt = datetime.datetime.strptime(date_str, \"%Y%m%d\")\n",
    "\n",
    "# output file path\n",
    "output_tiff_path = os.path.join(output_folder, 'oil_sheen_bit_S1_HH_' + date_str + '.tif')\n",
    "\n",
    "# writes final tiff image\n",
    "write_output_image(output_tiff_path, product_array, 'GTiff', 1, mask=None, output_projection=projection, output_geotransform=geotransform, no_data_value=0)\n",
    "\n",
    "# writes properties file\n",
    "write_properties_file(output_tiff_path, dt, dt, aoi)"
   ]
  },
  {
   "cell_type": "markdown",
   "metadata": {},
   "source": [
    "#####  Remove temporary folder"
   ]
  },
  {
   "cell_type": "code",
   "execution_count": null,
   "metadata": {},
   "outputs": [],
   "source": [
    "shutil.rmtree(temp_folder)"
   ]
  },
  {
   "cell_type": "code",
   "execution_count": null,
   "metadata": {},
   "outputs": [],
   "source": []
  },
  {
   "cell_type": "code",
   "execution_count": null,
   "metadata": {},
   "outputs": [],
   "source": []
  }
 ],
 "metadata": {
  "kernelspec": {
   "display_name": "Python 2",
   "language": "python",
   "name": "python2"
  },
  "language_info": {
   "codemirror_mode": {
    "name": "ipython",
    "version": 2
   },
   "file_extension": ".py",
   "mimetype": "text/x-python",
   "name": "python",
   "nbconvert_exporter": "python",
   "pygments_lexer": "ipython2",
   "version": "2.7.13"
  }
 },
 "nbformat": 4,
 "nbformat_minor": 2
}
